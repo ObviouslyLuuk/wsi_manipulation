{
 "cells": [
  {
   "cell_type": "code",
   "execution_count": null,
   "metadata": {},
   "outputs": [],
   "source": [
    "from wholeslidedata.annotation.wholeslideannotation import WholeSlideAnnotation\n",
    "from wholeslidedata.image.wholeslideimage import WholeSlideImage\n",
    "from wholeslidedata.annotation.types import PolygonAnnotation as Polygon\n",
    "from matplotlib import pyplot as plt\n",
    "import numpy as np\n",
    "import os\n",
    "import pandas as pd\n",
    "from tqdm import tqdm\n",
    "\n",
    "import cv2\n",
    "\n",
    "from py.helpers import get_outlines, get_area, get_patch, get_sub_areas, patch_empty, concat_one, BARRET_ROOT\n",
    "import os\n",
    "\n",
    "os.add_dll_directory(r'C:\\Program Files\\openslide-win64\\bin') # for openslide\n",
    "\n",
    "LANS_DIR = os.path.join(BARRET_ROOT, 'LANS_001-923')\n",
    "LANS_BIOP_ROOT = os.path.join(BARRET_ROOT, 'p53_biopsy-level_no-HE_Luuk', '_Luuk')\n",
    "LANS_BIOP_DIR = os.path.join(LANS_BIOP_ROOT, 'Slidescape_ASAP')\n",
    "BOLERO_DIR = os.path.join(BARRET_ROOT, 'BOLERO', 'P53 Bolero')\n",
    "PATHXL_DIR = os.path.join(LANS_BIOP_ROOT, 'PATHXL cases')\n",
    "PATHXL_DIR2 = os.path.join(LANS_BIOP_ROOT, 'PATHXL slides')"
   ]
  },
  {
   "cell_type": "code",
   "execution_count": null,
   "metadata": {},
   "outputs": [],
   "source": [
    "# Load labels for the initial high consensus dataset\n",
    "first_dataset = pd.read_csv(os.path.join(LANS_BIOP_ROOT, 'used_data_thesis', 'dataset_fullsize', 'biopsies_s1.0_data', 'biopsy_labels_s1.0.csv'))\n",
    "first_dataset.drop('dir', axis=1, inplace=True)\n",
    "display(first_dataset.head())\n",
    "first_dataset_case_nrs = first_dataset['casename'].unique().tolist()\n",
    "print(first_dataset_case_nrs[:5])\n",
    "print(len(first_dataset_case_nrs))"
   ]
  },
  {
   "cell_type": "code",
   "execution_count": null,
   "metadata": {},
   "outputs": [],
   "source": [
    "# See which .tiff files are in the LANS_BIOP_DIR out of the first dataset\n",
    "first_dataset_files = [f.replace('.tiff','') for f in os.listdir(LANS_BIOP_DIR) if f.endswith('.tiff')]\n",
    "# Print difference between the two lists\n",
    "print(\"initial more than files:\", len(set(first_dataset_case_nrs) - set(first_dataset_files)))\n",
    "print(set(first_dataset_case_nrs) - set(first_dataset_files))\n",
    "print(\"files more than initial:\", len(set(first_dataset_files) - set(first_dataset_case_nrs)))\n",
    "print(set(first_dataset_files) - set(first_dataset_case_nrs))"
   ]
  },
  {
   "cell_type": "code",
   "execution_count": null,
   "metadata": {},
   "outputs": [],
   "source": [
    "# Load labels for pathxl dataset\n",
    "labels = pd.read_csv(os.path.join(LANS_BIOP_ROOT, '..', 'pathxl_study_slide_labels.csv'))\n",
    "display(labels.head())\n",
    "pathxl_case_nrs = labels['case_nr'].to_list()\n",
    "print(pathxl_case_nrs[:5])\n",
    "print(len(pathxl_case_nrs))"
   ]
  },
  {
   "cell_type": "code",
   "execution_count": null,
   "metadata": {},
   "outputs": [],
   "source": [
    "# See which .tiff files are in the PATHXL_DIR out of the pathxl dataset\n",
    "pathxl_files = [f.replace('.tiff','') for f in os.listdir(PATHXL_DIR) if f.endswith('.tiff')]\n",
    "# Print difference between the two lists\n",
    "print(\"pathxl more than files:\", len(set(pathxl_case_nrs) - set(pathxl_files)))\n",
    "print(set(pathxl_case_nrs) - set(pathxl_files))\n",
    "print(\"files more than pathxl:\", len(set(pathxl_files) - set(pathxl_case_nrs)))\n",
    "print(set(pathxl_files) - set(pathxl_case_nrs))"
   ]
  },
  {
   "cell_type": "code",
   "execution_count": null,
   "metadata": {},
   "outputs": [],
   "source": [
    "# See which .tiff files are in the PATHXL_DIR2 out of the first dataset\n",
    "pathxl_files2 = [f.replace('.tiff','') for f in os.listdir(PATHXL_DIR2) if f.endswith('.tiff')]\n",
    "# Print intersection between the two lists\n",
    "print(\"intersection:\", len(set(pathxl_files2) & set(first_dataset_case_nrs)))\n",
    "print(set(pathxl_files2) & set(first_dataset_case_nrs))\n",
    "print(\"pathxl2 more than files:\", len(set(pathxl_files2) - set(first_dataset_case_nrs)))\n",
    "print(set(pathxl_files2) - set(first_dataset_case_nrs))\n",
    "\n",
    "# See which .tiff files are in the PATHXL_DIR2 out of the pathxl dataset\n",
    "print(\"intersection:\", len(set(pathxl_files2) & set(pathxl_case_nrs)))\n",
    "print(set(pathxl_files2) & set(pathxl_case_nrs))\n",
    "print(\"pathxl2 more than files:\", len(set(pathxl_files2) - set(pathxl_case_nrs)))\n",
    "print(set(pathxl_files2) - set(pathxl_case_nrs))"
   ]
  },
  {
   "cell_type": "code",
   "execution_count": null,
   "metadata": {},
   "outputs": [],
   "source": [
    "# Check the overlap between the two datasets\n",
    "overlap = set(first_dataset_case_nrs).intersection(set(pathxl_case_nrs))\n",
    "print(len(overlap))\n",
    "\n",
    "# It says 0 but case 013 and 470 were spelled differently and are actually overlapping\n",
    "# Also ~30 cases I used in the first dataset actually ended up on PATHXL later"
   ]
  },
  {
   "cell_type": "code",
   "execution_count": null,
   "metadata": {},
   "outputs": [],
   "source": [
    "# Get row for case_nr RL-0345-P53-1\n",
    "case_nr = 'RL-0345-P53-1'\n",
    "case_row = labels[labels['case_nr'] == case_nr]\n",
    "display(case_row)"
   ]
  },
  {
   "cell_type": "markdown",
   "metadata": {},
   "source": [
    "# Messy Folders:"
   ]
  },
  {
   "cell_type": "code",
   "execution_count": null,
   "metadata": {},
   "outputs": [],
   "source": [
    "# folders = os.listdir(LANS_BIOP_ROOT)\n",
    "# folders = [f for f in folders if os.path.isdir(os.path.join(LANS_BIOP_ROOT, f))]\n",
    "folders = [\n",
    "    \"2nd Opinion Required\",\n",
    "    os.path.join(\"final_test_set_(low_consensus_second_look)\", \"not_ready\", \"duo_28_hans\"),\n",
    "    os.path.join(\"final_test_set_(low_consensus_second_look)\", \"not_ready\", \"duo_28_sybren\"),\n",
    "    os.path.join(\"final_test_set_(low_consensus_second_look)\", \"not_ready\", \"pathxl\"),\n",
    "    # \"p53 dubbel ISYNTAX\", # Only isyntax\n",
    "    \"P53_niet_duidelijk\",\n",
    "    \"P53_score_high_consensus\",\n",
    "    os.path.join(\"P53_score_high_consensus\", \"not ready\"),\n",
    "    \"P53_score_te_lage_consensus\",\n",
    "    \"P53_te_weinig_beoordelingen\",\n",
    "    \"te corrigeren_nummers Hans\",\n",
    "    \"te corrigeren_nummers Sybren\",\n",
    "    # \"Uitzoeken onno ASL\", # Only isyntax\n",
    "    os.path.join(\"voor Onno\", \"2 obversers necessary\"),\n",
    "    os.path.join(\"voor Onno\", \"concordance_high_new\"),\n",
    "    os.path.join(\"voor Onno\", \"observer group necessary\"),\n",
    "    # Upper folders\n",
    "    os.path.join(\"..\", \"low consensus cases\")\n",
    "]"
   ]
  },
  {
   "cell_type": "code",
   "execution_count": null,
   "metadata": {},
   "outputs": [],
   "source": [
    "# Make a matrix of folders x folders with the number of cases in common like the string \"common / total\"\n",
    "common_cases = np.zeros((len(folders), len(folders)), dtype=object)\n",
    "tiffs_per_folder = {}\n",
    "for i, folder1 in enumerate(folders):\n",
    "    folder1_cases = [f for f in os.listdir(os.path.join(LANS_BIOP_ROOT, folder1)) if f.endswith('.tiff') or f.endswith('.isyntax')]\n",
    "    tiffs_per_folder[folder1] = len(folder1_cases)\n",
    "    for j, folder2 in enumerate(folders):\n",
    "        if i == j:\n",
    "            common_cases[i, j] = 'X'\n",
    "            continue\n",
    "        folder2_cases = [f for f in os.listdir(os.path.join(LANS_BIOP_ROOT, folder2)) if f.endswith('.tiff') or f.endswith('.isyntax')]\n",
    "        common_cases[i, j] = f\"{len(set(folder1_cases) & set(folder2_cases))} / {len(folder1_cases)}\"\n",
    "folders_display = [f.split(os.sep)[-1].replace('_',' ')+f\" ({tiffs_per_folder[f]})\" for f in folders]\n",
    "common_cases_df = pd.DataFrame(common_cases, index=folders_display, columns=folders_display)\n",
    "display(common_cases_df)"
   ]
  },
  {
   "cell_type": "code",
   "execution_count": null,
   "metadata": {},
   "outputs": [],
   "source": [
    "\n",
    "high_consensus = [f.replace('.tiff','') for f in os.listdir(os.path.join(LANS_BIOP_ROOT, 'P53_score_high_consensus')) if f.endswith('.tiff')]\n",
    "print(len(high_consensus))\n",
    "pathxl = [f.replace('.tiff','') for f in os.listdir(os.path.join(LANS_BIOP_ROOT, 'final_test_set_(low_consensus_second_look)', 'not_ready', 'pathxl')) if f.endswith('.tiff')]\n",
    "print(len(pathxl))\n",
    "\n",
    "# Find duplicates throughout the folders\n",
    "from collections import defaultdict\n",
    "duplicates = defaultdict(list)\n",
    "folders_with_duplicates = defaultdict(int)\n",
    "for folder in folders:\n",
    "    if folder == 'P53_score_high_consensus':\n",
    "        continue\n",
    "    for f in os.listdir(os.path.join(LANS_BIOP_ROOT, folder)):\n",
    "        f = f.replace('.tiff','')\n",
    "        if f in high_consensus:\n",
    "            duplicates[f].append(folder)\n",
    "            folders_with_duplicates[folder] += 1\n",
    "for folder in folders_with_duplicates:\n",
    "    folders_with_duplicates[folder] = f\"{folders_with_duplicates[folder]} / {len([f for f in os.listdir(os.path.join(LANS_BIOP_ROOT, folder)) if f.endswith('.tiff')])}\""
   ]
  },
  {
   "cell_type": "code",
   "execution_count": null,
   "metadata": {},
   "outputs": [],
   "source": [
    "# Which case number are missing from pathxl\n",
    "display(set(pathxl_case_nrs) - set(pathxl))\n",
    "display(set(pathxl) - set(pathxl_case_nrs))"
   ]
  },
  {
   "cell_type": "code",
   "execution_count": null,
   "metadata": {},
   "outputs": [],
   "source": [
    "# Do the same for first dataset case numbers and the high consensus folder\n",
    "display(set(first_dataset_case_nrs) - set(high_consensus))\n",
    "display(set(high_consensus) - set(first_dataset_case_nrs))"
   ]
  },
  {
   "cell_type": "code",
   "execution_count": null,
   "metadata": {},
   "outputs": [],
   "source": [
    "hans_28 = [f.replace('.tiff','') for f in os.listdir(os.path.join(LANS_BIOP_ROOT, 'final_test_set_(low_consensus_second_look)', 'not_ready', 'duo_28_hans')) if f.endswith('.tiff')]\n",
    "sybren_28 = [f.replace('.tiff','') for f in os.listdir(os.path.join(LANS_BIOP_ROOT, 'final_test_set_(low_consensus_second_look)', 'not_ready', 'duo_28_sybren')) if f.endswith('.tiff')]\n",
    "\n",
    "# Check these two folders in the same way\n",
    "display(set(hans_28) - set(sybren_28))\n",
    "display(set(sybren_28) - set(hans_28))\n",
    "\n",
    "# Check hans_28 against high consensus and pathxl in the same way\n",
    "display(len(set(hans_28) - set(high_consensus)))\n",
    "display(len(set(hans_28) - set(pathxl)))"
   ]
  },
  {
   "cell_type": "code",
   "execution_count": null,
   "metadata": {},
   "outputs": [],
   "source": [
    "# Test for all XMLs in the duo 28 folders whether they are the same (just as raw files)\n",
    "hans_28_xmls = [f.replace('.xml','') for f in os.listdir(os.path.join(LANS_BIOP_ROOT, 'final_test_set_(low_consensus_second_look)', 'not_ready', 'duo_28_hans')) if f.endswith('.xml')]\n",
    "sybren_28_xmls = [f.replace('.xml','') for f in os.listdir(os.path.join(LANS_BIOP_ROOT, 'final_test_set_(low_consensus_second_look)', 'not_ready', 'duo_28_sybren')) if f.endswith('.xml')]\n",
    "\n",
    "for i, xml in enumerate(hans_28_xmls):\n",
    "    with open(os.path.join(LANS_BIOP_ROOT, 'final_test_set_(low_consensus_second_look)', 'not_ready', 'duo_28_hans', f\"{xml}.xml\"), 'r') as f:\n",
    "        hans_28_xml = f.read()\n",
    "    with open(os.path.join(LANS_BIOP_ROOT, 'final_test_set_(low_consensus_second_look)', 'not_ready', 'duo_28_sybren', f\"{xml}.xml\"), 'r') as f:\n",
    "        sybren_28_xml = f.read()\n",
    "    if hans_28_xml != sybren_28_xml:\n",
    "        print(f\"XML {xml} is different\")\n",
    "        # Print the differences\n",
    "        hans_28_xml = hans_28_xml.split('\\n')\n",
    "        sybren_28_xml = sybren_28_xml.split('\\n')\n",
    "        for i, (h, s) in enumerate(zip(hans_28_xml, sybren_28_xml)):\n",
    "            if h != s:\n",
    "                print(f\"Line {i}:\")\n",
    "                print(f\"Hans: {h}\")\n",
    "                print(f\"Sybren: {s}\")\n",
    "                print()"
   ]
  },
  {
   "cell_type": "code",
   "execution_count": null,
   "metadata": {},
   "outputs": [],
   "source": [
    "# DOESN'T WORK, FUCKING LIBVIPS\n",
    "# # Add vips library to path (C:\\Users\\lverheijen\\AppData\\Local\\miniconda3\\envs\\wsi\\Lib\\site-packages)\n",
    "# import sys\n",
    "# # sys.path.append(r'H:\\libvips-8.15.2')\n",
    "# sys.path.append(r\"H:\\vips-dev-8.15\\bin\")\n",
    "# os.add_dll_directory(r\"H:\\vips-dev-8.15\\bin\")\n",
    "\n",
    "# dll_name = 'libvips-42.dll'\n",
    "# print(dll_name in os.listdir(r\"H:\\vips-dev-8.15\\bin\"))\n",
    "\n",
    "# import pyvips\n",
    "\n",
    "# # Function to convert mrxs to tiff\n",
    "# def mrxs_to_tiff(mrxs_path, tiff_path):\n",
    "#     slide = pyvips.Image.new_from_file(mrxs_path, level=0)\n",
    "#     slide.tiffsave(tiff_path, tile=True, compression='lzw', pyramid=True)\n",
    "#     print(f\"Converted {mrxs_path} to {tiff_path}\")\n",
    "\n",
    "# # Convert all mrxs to tiff in pathxl folder\n",
    "# pathxl_folder = os.path.join(LANS_BIOP_ROOT, 'final_test_set_(low_consensus_second_look)', 'not_ready', 'pathxl')\n",
    "# for f in os.listdir(pathxl_folder):\n",
    "#     if f.endswith('.mrxs'):\n",
    "#         mrxs_to_tiff(os.path.join(pathxl_folder, f), os.path.join(pathxl_folder, f.replace('.mrxs','.tiff')))\n",
    "# print('Done')"
   ]
  },
  {
   "cell_type": "code",
   "execution_count": null,
   "metadata": {},
   "outputs": [],
   "source": [
    "display(folders_with_duplicates)"
   ]
  },
  {
   "cell_type": "code",
   "execution_count": null,
   "metadata": {},
   "outputs": [],
   "source": [
    "print(len(duplicates.keys()))\n",
    "display(duplicates)"
   ]
  }
 ],
 "metadata": {
  "kernelspec": {
   "display_name": "wsi",
   "language": "python",
   "name": "python3"
  },
  "language_info": {
   "codemirror_mode": {
    "name": "ipython",
    "version": 3
   },
   "file_extension": ".py",
   "mimetype": "text/x-python",
   "name": "python",
   "nbconvert_exporter": "python",
   "pygments_lexer": "ipython3",
   "version": "3.12.0"
  }
 },
 "nbformat": 4,
 "nbformat_minor": 2
}
