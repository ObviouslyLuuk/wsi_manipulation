{
 "cells": [
  {
   "cell_type": "code",
   "execution_count": 7,
   "metadata": {},
   "outputs": [],
   "source": [
    "import csv\n",
    "import os\n",
    "\n",
    "# 0. Prepare train.csv and val.csv\n",
    "# For this pipeline you will need two csv files: train and val.csv. The syntax is easy:\n",
    "\n",
    "# slide_id,label\n",
    "# TRAIN_1,1\n",
    "# TRAIN_2,1\n",
    "# ...\n",
    "\n",
    "# Read slide ids from p53/\n",
    "slide_ids = os.listdir('p53/')\n",
    "slide_ids = [slide_id.split('.')[0] for slide_id in slide_ids]\n",
    "\n",
    "# Split slide ids into train and val\n",
    "train_ids = slide_ids[:int(len(slide_ids)*0.8)]\n",
    "val_ids = slide_ids[int(len(slide_ids)*0.8):]\n",
    "\n",
    "# Write train.csv, without empty lines in between rows\n",
    "with open('train.csv', 'w', newline='') as f:\n",
    "    writer = csv.writer(f)\n",
    "    writer.writerow(['slide_id', 'label'])\n",
    "    for slide_id in train_ids:\n",
    "        writer.writerow([slide_id, 1])\n",
    "\n",
    "# Write val.csv, without empty lines in between rows\n",
    "with open('val.csv', 'w', newline='') as f:\n",
    "    writer = csv.writer(f)\n",
    "    writer.writerow(['slide_id', 'label'])\n",
    "    for slide_id in val_ids:\n",
    "        writer.writerow([slide_id, 1])"
   ]
  }
 ],
 "metadata": {
  "kernelspec": {
   "display_name": "Python 3",
   "language": "python",
   "name": "python3"
  },
  "language_info": {
   "codemirror_mode": {
    "name": "ipython",
    "version": 3
   },
   "file_extension": ".py",
   "mimetype": "text/x-python",
   "name": "python",
   "nbconvert_exporter": "python",
   "pygments_lexer": "ipython3",
   "version": "3.11.5"
  }
 },
 "nbformat": 4,
 "nbformat_minor": 2
}
