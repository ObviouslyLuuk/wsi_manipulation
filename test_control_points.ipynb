{
 "cells": [
  {
   "cell_type": "code",
   "execution_count": null,
   "metadata": {},
   "outputs": [],
   "source": [
    "from wholeslidedata.annotation.wholeslideannotation import WholeSlideAnnotation\n",
    "from wholeslidedata.annotation.types import PointAnnotation as Point, PolygonAnnotation as Polygon\n",
    "from wholeslidedata.image.wholeslideimage import WholeSlideImage\n",
    "from matplotlib import pyplot as plt\n",
    "import numpy as np\n",
    "import os\n",
    "from wholeslidedata.annotation import utils as annotation_utils\n",
    "from wholeslidedata.visualization.plotting import plot_annotations\n",
    "\n",
    "from cv2 import getAffineTransform, warpAffine\n",
    "\n",
    "from py.helpers import concat_one, get_outlines, get_patch, ROOT\n",
    "from py.registration import get_3p_transform\n",
    "\n",
    "path_to_wsi_he = os.path.join(ROOT, r'annotated\\\\RASL-04_HE.tiff')\n",
    "path_to_wsa_he = os.path.join(ROOT, r'annotated\\\\RASL-04_HE.xml')\n",
    "path_to_wsi_p53 = os.path.join(ROOT, r'annotated\\\\RASL-04_P53.tiff')\n",
    "path_to_wsa_p53 = os.path.join(ROOT, r'annotated\\\\RASL-04_P53.xml')"
   ]
  },
  {
   "cell_type": "code",
   "execution_count": null,
   "metadata": {},
   "outputs": [],
   "source": [
    "def plot_slide_with_annotation(wsi, wsa, spacing=2.0):\n",
    "    scale = 1/spacing*0.25\n",
    "\n",
    "    fig, ax = plt.subplots(1,1)\n",
    "    slide = wsi.get_slide(spacing)\n",
    "    ax.imshow(slide)\n",
    "    plot_annotations(wsa.annotations, ax, title=\"all annotations\", scale=scale)\n",
    "    plt.show()"
   ]
  },
  {
   "cell_type": "code",
   "execution_count": null,
   "metadata": {},
   "outputs": [],
   "source": [
    "wsa_he = WholeSlideAnnotation(path_to_wsa_he)\n",
    "wsi_he = WholeSlideImage(path_to_wsi_he)\n",
    "\n",
    "print(f'label_map: {wsa_he.labels.map}')\n",
    "print(f'counts per label:  {annotation_utils.get_counts_in_annotations(wsa_he.annotations, wsa_he.labels)}')"
   ]
  },
  {
   "cell_type": "code",
   "execution_count": null,
   "metadata": {},
   "outputs": [],
   "source": [
    "wsa_p53 = WholeSlideAnnotation(path_to_wsa_p53)\n",
    "wsi_p53 = WholeSlideImage(path_to_wsi_p53)\n",
    "\n",
    "print(f'label_map: {wsa_p53.labels.map}')\n",
    "print(f'counts per label:  {annotation_utils.get_counts_in_annotations(wsa_p53.annotations, wsa_p53.labels)}')"
   ]
  },
  {
   "cell_type": "code",
   "execution_count": null,
   "metadata": {},
   "outputs": [],
   "source": [
    "p53_outlines = get_outlines(wsa_p53)\n",
    "HE_outlines = get_outlines(wsa_he)\n",
    "\n",
    "spacing = 2.0\n",
    "scale = 1/spacing*0.25\n",
    "\n",
    "slide = wsi_he.get_slide(spacing=spacing)\n",
    "slide_p53 = wsi_p53.get_slide(spacing=spacing)"
   ]
  },
  {
   "cell_type": "code",
   "execution_count": null,
   "metadata": {},
   "outputs": [],
   "source": [
    "from wholeslidedata.visualization.color import get_color\n",
    "\n",
    "def plot_annotations(\n",
    "    annotations,\n",
    "    ax=None,\n",
    "    color_map=None,\n",
    "    title=\"\",\n",
    "    use_base_coordinates=False,\n",
    "    scale=1.0,\n",
    "):\n",
    "    ax = ax or plt\n",
    "\n",
    "    if use_base_coordinates:\n",
    "        min_x = min(annotation.bounds[0] for annotation in annotations)\n",
    "        min_y = min(annotation.bounds[1] for annotation in annotations)\n",
    "        annotations = [annotation.translate((min_x, min_y)) for annotation in annotations]\n",
    "\n",
    "    for annotation in annotations:\n",
    "        color = get_color(annotation, color_map)\n",
    "        coordinates = np.array(annotation.coordinates) * scale\n",
    "\n",
    "        if isinstance(annotation, Point):\n",
    "            coordinates = list(zip(*coordinates))\n",
    "            ax.scatter(*coordinates, color=color)\n",
    "        elif isinstance(annotation, Polygon):\n",
    "            ax.plot(*list(zip(*coordinates)), color=color, linewidth=2)\n",
    "        else:\n",
    "            raise ValueError(f\"invalid annotation {type(annotation)}\")\n",
    "\n",
    "    if ax == plt:\n",
    "        plt.axis(\"equal\")\n",
    "        plt.gca().invert_yaxis()\n",
    "        plt.show()\n",
    "    else:\n",
    "        ax.axis(\"equal\")\n",
    "        ax.set_title(title)"
   ]
  },
  {
   "cell_type": "code",
   "execution_count": null,
   "metadata": {},
   "outputs": [],
   "source": [
    "\"\"\"\n",
    "After creating a whole slide annotation, we can plot all the annotation within it\n",
    "\"\"\"\n",
    "\n",
    "plot_slide_with_annotation(wsi_he, wsa_he)\n",
    "plot_slide_with_annotation(wsi_p53, wsa_p53)"
   ]
  },
  {
   "attachments": {},
   "cell_type": "markdown",
   "metadata": {},
   "source": [
    "Control points testing"
   ]
  },
  {
   "cell_type": "code",
   "execution_count": null,
   "metadata": {},
   "outputs": [],
   "source": [
    "control_points = np.float32([a.coordinates for a in wsa_he.annotations if isinstance(a, Point)]) * scale\n",
    "control_points_p53 = np.float32([a.coordinates for a in wsa_p53.annotations if isinstance(a, Point)]) * scale\n",
    "\n",
    "print(control_points)\n",
    "print(control_points_p53)"
   ]
  },
  {
   "cell_type": "code",
   "execution_count": null,
   "metadata": {},
   "outputs": [],
   "source": [
    "# Point set registration with numpy\n",
    "transform = np.linalg.solve(concat_one(control_points_p53[:3]), concat_one(control_points[:3])).T\n",
    "print(transform)"
   ]
  },
  {
   "cell_type": "code",
   "execution_count": null,
   "metadata": {},
   "outputs": [],
   "source": [
    "# Point set registration with opencv\n",
    "transform = getAffineTransform(control_points_p53[[0,2,4]], control_points[[0,2,4]])\n",
    "print(transform)\n",
    "\n",
    "# The x and y translation should be /32 because the coordinate system is larger for the control points\n",
    "# The rotation and scale are relative however, so they shouldn't be multiplied"
   ]
  },
  {
   "cell_type": "code",
   "execution_count": null,
   "metadata": {},
   "outputs": [],
   "source": [
    "print(control_points)\n",
    "print(control_points_p53)\n",
    "print((transform @ concat_one(control_points_p53).T).T)"
   ]
  },
  {
   "cell_type": "code",
   "execution_count": null,
   "metadata": {},
   "outputs": [],
   "source": [
    "# indentity = np.array([[1.,0.,0.],[0.,1.,0.]])\n",
    "manual_transform = np.array([[1.,0.,-3600.],[0.,1.,-31.]])\n",
    "# slide_p53_prime = warpAffine(slide_p53, transform, slide.shape[:2][::-1])\n",
    "# slide_p53_prime = warpAffine(slide_p53, indentity, slide.shape[:2][::-1])\n",
    "slide_p53_prime = warpAffine(slide_p53, transform, slide.shape[:2][::-1])"
   ]
  },
  {
   "cell_type": "code",
   "execution_count": null,
   "metadata": {},
   "outputs": [],
   "source": [
    "print(transform)\n",
    "print(manual_transform)"
   ]
  },
  {
   "cell_type": "code",
   "execution_count": null,
   "metadata": {},
   "outputs": [],
   "source": [
    "fig, axes = plt.subplots(1,2, figsize=(20,10))\n",
    "\n",
    "axes[0].imshow(slide)\n",
    "\n",
    "# plot_annotations(annotations_p53, axes[1], title='all annotations', scale=1/32)\n",
    "print(\"control points HE\\n\", control_points)\n",
    "print(\"control points p53\\n\", np.array([concat_one(point[None,:])[0] for point in control_points_p53]))\n",
    "control_points_p53_prime = np.array([(transform @ concat_one(point[None,:]).T).T[0] for point in control_points_p53])\n",
    "print(\"transformed control points p53\\n\", control_points_p53_prime)\n",
    "\n",
    "axes[0].scatter(control_points[:,0], control_points[:,1], s=100)\n",
    "axes[0].scatter(control_points_p53_prime[:,0], control_points_p53_prime[:,1])\n",
    "\n",
    "axes[1].imshow(slide_p53_prime)\n",
    "\n",
    "axes[1].scatter(control_points[:,0], control_points[:,1], s=100)\n",
    "axes[1].scatter(control_points_p53_prime[:,0], control_points_p53_prime[:,1])\n",
    "axes[1].scatter(control_points_p53[[0,2,4],0], control_points_p53[[0,2,4],1])\n",
    "\n",
    "for i, p in enumerate(control_points_p53):\n",
    "    axes[1].annotate(i, (p[0], p[1]))\n",
    "\n",
    "plt.show()"
   ]
  },
  {
   "cell_type": "code",
   "execution_count": null,
   "metadata": {},
   "outputs": [],
   "source": [
    "fig, ax = plt.subplots(1,1, figsize=(20,10))\n",
    "\n",
    "ax.imshow(slide)\n",
    "ax.imshow(slide_p53_prime, alpha=0.7)\n",
    "\n",
    "ax.scatter(control_points[:,0], control_points[:,1], s=100)\n",
    "ax.scatter(control_points_p53_prime[:,0], control_points_p53_prime[:,1])\n",
    "\n",
    "plt.show()"
   ]
  },
  {
   "cell_type": "code",
   "execution_count": null,
   "metadata": {},
   "outputs": [],
   "source": [
    "transform = get_3p_transform(wsa_p53.annotations, wsa_he.annotations, spacing, [0,2,4])\n",
    "print(transform)\n",
    "scale = 1/spacing*0.25\n",
    "\n",
    "HE_outline = (transform @ concat_one(p53_outlines[0]*scale).T).T / scale\n",
    "\n",
    "biopsy_img1 = get_patch(wsi_p53, p53_outlines[0], spacing)\n",
    "biopsy_img2 = get_patch(wsi_he, HE_outline, spacing)\n",
    "\n",
    "fig, ax = plt.subplots(3,1,figsize=(15,15))\n",
    "ax[0].imshow(biopsy_img1)\n",
    "ax[2].imshow(biopsy_img1)\n",
    "\n",
    "ax[1].imshow(biopsy_img2)\n",
    "ax[2].imshow(biopsy_img2, alpha=0.5)"
   ]
  }
 ],
 "metadata": {
  "kernelspec": {
   "display_name": "wsi",
   "language": "python",
   "name": "python3"
  },
  "language_info": {
   "codemirror_mode": {
    "name": "ipython",
    "version": 3
   },
   "file_extension": ".py",
   "mimetype": "text/x-python",
   "name": "python",
   "nbconvert_exporter": "python",
   "pygments_lexer": "ipython3",
   "version": "3.12.0"
  },
  "orig_nbformat": 4,
  "vscode": {
   "interpreter": {
    "hash": "99eb85acb8abd9e1e3e87c56469455871a81415da1052eafff3227ad936700dc"
   }
  }
 },
 "nbformat": 4,
 "nbformat_minor": 2
}
