{
 "cells": [
  {
   "cell_type": "code",
   "execution_count": null,
   "metadata": {},
   "outputs": [],
   "source": [
    "import numpy as np\n",
    "from matplotlib import pyplot as plt\n",
    "import cv2\n",
    "from tqdm import tqdm\n",
    "\n",
    "import os\n",
    "\n",
    "ROOT = r'L:\\\\basic\\\\divg\\\\PATH-COMPAI\\\\datasets\\\\Barrett\\\\Barrett ASL 21-11-22\\\\'"
   ]
  },
  {
   "cell_type": "code",
   "execution_count": null,
   "metadata": {},
   "outputs": [],
   "source": [
    "data_path = os.path.join(ROOT, \"patch_dataset_s1_512\", \"p53\")\n",
    "patch_paths = [os.path.join(data_path, nm) for nm in os.listdir(data_path)]\n",
    "\n",
    "size = cv2.imread(patch_paths[0]).shape[0]\n",
    "\n",
    "brown = np.array([128,  90,  90])\n",
    "blue  = np.array([150, 170, 190])\n",
    "template = np.ones((size*size,3))\n",
    "brown_copy = template.copy()\n",
    "blue_copy  = template.copy()\n",
    "brown_copy[:] = brown\n",
    "blue_copy [:] = blue\n",
    "\n",
    "for i, path in tqdm(enumerate(patch_paths)):\n",
    "    try:\n",
    "        img = cv2.cvtColor(cv2.imread(path), cv2.COLOR_BGR2RGB)\n",
    "    except:\n",
    "        print(path)\n",
    "        continue\n",
    "    pixels = img.reshape(size*size,3)\n",
    "    brown_mask = np.isclose(pixels, brown_copy, atol=50).astype(np.float32).min(axis=-1).reshape(size,size)\n",
    "    blue_mask  = np.isclose(pixels, blue_copy , atol=50).astype(np.float32).min(axis=-1).reshape(size,size)\n",
    "\n",
    "    fig, ax = plt.subplots(1,2)\n",
    "    ax[0].imshow(img)\n",
    "    ax[0].axis(\"Off\")\n",
    "    ax[1].imshow(brown_mask, cmap=\"gray\")\n",
    "    ax[1].axis(\"Off\")\n",
    "    ax[1].set_title(f\"{brown_mask.sum()/(blue_mask.sum()+brown_mask.sum()):.4f}\")\n",
    "\n",
    "    plt.savefig(os.path.join(ROOT, \"visualisation\", os.path.basename(path)), bbox_inches=\"tight\", \n",
    "                # pad_inches=0\n",
    "                )\n",
    "    plt.close()"
   ]
  },
  {
   "cell_type": "code",
   "execution_count": null,
   "metadata": {},
   "outputs": [],
   "source": [
    "fig, ax = plt.subplots(1,3,figsize=(30,30))\n",
    "ax[0].imshow(img)\n",
    "ax[1].imshow(brown_mask)\n",
    "ax[2].imshow(blue_mask)"
   ]
  },
  {
   "cell_type": "code",
   "execution_count": null,
   "metadata": {},
   "outputs": [],
   "source": [
    "img2.sum()/img3.sum()"
   ]
  }
 ],
 "metadata": {
  "kernelspec": {
   "display_name": "wsi",
   "language": "python",
   "name": "python3"
  },
  "language_info": {
   "codemirror_mode": {
    "name": "ipython",
    "version": 3
   },
   "file_extension": ".py",
   "mimetype": "text/x-python",
   "name": "python",
   "nbconvert_exporter": "python",
   "pygments_lexer": "ipython3",
   "version": "3.9.7"
  },
  "orig_nbformat": 4,
  "vscode": {
   "interpreter": {
    "hash": "99eb85acb8abd9e1e3e87c56469455871a81415da1052eafff3227ad936700dc"
   }
  }
 },
 "nbformat": 4,
 "nbformat_minor": 2
}
