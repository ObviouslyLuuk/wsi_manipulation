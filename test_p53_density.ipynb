{
 "cells": [
  {
   "cell_type": "code",
   "execution_count": null,
   "metadata": {},
   "outputs": [],
   "source": [
    "import numpy as np\n",
    "from matplotlib import pyplot as plt\n",
    "import cv2\n",
    "from tqdm import tqdm\n",
    "\n",
    "import os\n",
    "\n",
    "from py.helpers import ROOT"
   ]
  },
  {
   "cell_type": "code",
   "execution_count": null,
   "metadata": {},
   "outputs": [],
   "source": [
    "# Get brown and blue layers\n",
    "def get_brown_blue_layers(img):\n",
    "    brown = np.array([128,  90,  90])\n",
    "    blue  = np.array([150, 170, 190])\n",
    "    template = np.ones((img.shape[0]*img.shape[1],3))\n",
    "    brown_copy = template.copy()\n",
    "    blue_copy  = template.copy()\n",
    "    brown_copy[:] = brown\n",
    "    blue_copy [:] = blue\n",
    "    pixels = img.reshape(img.shape[0]*img.shape[1],3)\n",
    "    brown_mask = np.isclose(pixels, brown_copy, atol=50).astype(np.float32).min(axis=-1).reshape(img.shape[0],img.shape[1])\n",
    "    blue_mask  = np.isclose(pixels, blue_copy , atol=50).astype(np.float32).min(axis=-1).reshape(img.shape[0],img.shape[1])\n",
    "    return brown_mask, blue_mask\n",
    "\n",
    "def save_brown_mask(data_path=os.path.join(ROOT, \"patch_dataset_s1_512\", \"p53\")):\n",
    "    patch_paths = [os.path.join(data_path, nm) for nm in os.listdir(data_path)]\n",
    "\n",
    "    for i, path in tqdm(enumerate(patch_paths)):\n",
    "        try:\n",
    "            img = cv2.cvtColor(cv2.imread(path), cv2.COLOR_BGR2RGB)\n",
    "        except:\n",
    "            print(path)\n",
    "            continue\n",
    "        brown_mask, blue_mask = get_brown_blue_layers(img)\n",
    "\n",
    "        fig, ax = plt.subplots(1,2)\n",
    "        ax[0].imshow(img)\n",
    "        ax[0].axis(\"Off\")\n",
    "        ax[1].imshow(brown_mask, cmap=\"gray\")\n",
    "        ax[1].axis(\"Off\")\n",
    "        ax[1].set_title(f\"{brown_mask.sum()/(blue_mask.sum()+brown_mask.sum()):.4f}\")\n",
    "\n",
    "        plt.savefig(os.path.join(ROOT, \"visualisation\", os.path.basename(path)), bbox_inches=\"tight\", \n",
    "                    # pad_inches=0\n",
    "                    )\n",
    "        plt.close()"
   ]
  },
  {
   "cell_type": "code",
   "execution_count": null,
   "metadata": {},
   "outputs": [],
   "source": [
    "data_path = os.path.join(ROOT, \"patch_dataset_s1_512\", \"p53\")\n",
    "patch_paths = [os.path.join(data_path, nm) for nm in os.listdir(data_path)]\n",
    "img = cv2.cvtColor(cv2.imread(patch_paths[0]), cv2.COLOR_BGR2RGB)\n",
    "brown_mask, blue_mask = get_brown_blue_layers(img)\n",
    "\n",
    "fig, ax = plt.subplots(1,3,figsize=(30,30))\n",
    "ax[0].imshow(img)\n",
    "ax[1].imshow(brown_mask)\n",
    "ax[2].imshow(blue_mask)"
   ]
  },
  {
   "cell_type": "code",
   "execution_count": null,
   "metadata": {},
   "outputs": [],
   "source": [
    "import numpy as np\n",
    "import matplotlib.pyplot as plt\n",
    "\n",
    "from skimage import data\n",
    "from skimage.color import rgb2hed, hed2rgb\n",
    "\n",
    "\n",
    "def get_h_d_layers(ihc_rgb):\n",
    "    ihc_hed = rgb2hed(ihc_rgb) # Separate the stains from the IHC image\n",
    "\n",
    "    # Create an RGB image for each of the stains\n",
    "    null = np.zeros_like(ihc_hed[:, :, 0])\n",
    "    ihc_h = hed2rgb(np.stack((ihc_hed[:, :, 0], null, null), axis=-1))\n",
    "    ihc_d = hed2rgb(np.stack((null, null, ihc_hed[:, :, 2]), axis=-1))\n",
    "    return ihc_h, ihc_d\n",
    "\n",
    "def plot_h_d_layers(ihc_rgb, show=True):\n",
    "    ihc_h, ihc_d = get_h_d_layers(ihc_rgb)\n",
    "\n",
    "    # print((1-ihc_h).sum(), (1-ihc_d).sum())\n",
    "    DAB_density = (1-ihc_d).sum()/((1-ihc_h).sum()+(1-ihc_d).sum())\n",
    "\n",
    "    # Display\n",
    "    fig, axes = plt.subplots(1, 3, figsize=(7, 6), sharex=True, sharey=True)\n",
    "    ax = axes.ravel()\n",
    "\n",
    "    ax[0].imshow(ihc_rgb)\n",
    "    ax[0].set_title(\"Original image\")\n",
    "\n",
    "    ax[1].imshow(ihc_h)\n",
    "    ax[1].set_title(\"Hematoxylin\")\n",
    "\n",
    "    ax[2].imshow(ihc_d)\n",
    "    ax[2].set_title(f\"DAB {DAB_density:.2f}\")\n",
    "\n",
    "    for a in ax.ravel():\n",
    "        a.axis('off')\n",
    "\n",
    "    fig.tight_layout()\n",
    "    if show:\n",
    "        plt.show()\n",
    "\n",
    "    return DAB_density\n",
    "\n",
    "\n",
    "def save_h_d_layers(data_path=os.path.join(ROOT, \"patch_dataset_s1_512\", \"p53\")):\n",
    "    patch_paths = [os.path.join(data_path, nm) for nm in os.listdir(data_path)]\n",
    "\n",
    "    for i, path in tqdm(enumerate(patch_paths[1163:])):\n",
    "        try:\n",
    "            img = cv2.cvtColor(cv2.imread(path), cv2.COLOR_BGR2RGB)\n",
    "        except:\n",
    "            print(path)\n",
    "            continue\n",
    "        DAB_density = plot_h_d_layers(img, show=False)\n",
    "\n",
    "        # Save plot\n",
    "        plt.savefig(os.path.join(ROOT, \"visualisation\", f\"{DAB_density:.2f}_{os.path.basename(path)}\"), bbox_inches=\"tight\",\n",
    "                    # pad_inches=0\n",
    "                    )\n",
    "        plt.close()\n",
    "        \n",
    "# Example IHC image\n",
    "ihc_rgb = data.immunohistochemistry()\n",
    "# plot_h_d_layers(ihc_rgb)"
   ]
  },
  {
   "cell_type": "code",
   "execution_count": null,
   "metadata": {},
   "outputs": [],
   "source": [
    "save_h_d_layers()"
   ]
  },
  {
   "cell_type": "code",
   "execution_count": null,
   "metadata": {},
   "outputs": [],
   "source": [
    "images = [cv2.cvtColor(cv2.imread(path), cv2.COLOR_BGR2RGB) for path in patch_paths[:10]]\n",
    "for img in images:\n",
    "    plot_h_d_layers(img)\n",
    "    plt.show()"
   ]
  }
 ],
 "metadata": {
  "kernelspec": {
   "display_name": "wsi",
   "language": "python",
   "name": "python3"
  },
  "language_info": {
   "codemirror_mode": {
    "name": "ipython",
    "version": 3
   },
   "file_extension": ".py",
   "mimetype": "text/x-python",
   "name": "python",
   "nbconvert_exporter": "python",
   "pygments_lexer": "ipython3",
   "version": "3.12.0"
  },
  "orig_nbformat": 4,
  "vscode": {
   "interpreter": {
    "hash": "99eb85acb8abd9e1e3e87c56469455871a81415da1052eafff3227ad936700dc"
   }
  }
 },
 "nbformat": 4,
 "nbformat_minor": 2
}
